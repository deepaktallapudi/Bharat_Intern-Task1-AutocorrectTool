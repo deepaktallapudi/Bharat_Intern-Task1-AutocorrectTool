{
 "cells": [
  {
   "cell_type": "code",
   "execution_count": 6,
   "id": "b8878028",
   "metadata": {},
   "outputs": [
    {
     "name": "stderr",
     "output_type": "stream",
     "text": [
      "[nltk_data] Downloading package words to\n",
      "[nltk_data]     C:\\Users\\91938\\AppData\\Roaming\\nltk_data...\n",
      "[nltk_data]   Package words is already up-to-date!\n",
      "[nltk_data] Downloading package punkt to\n",
      "[nltk_data]     C:\\Users\\91938\\AppData\\Roaming\\nltk_data...\n",
      "[nltk_data]   Package punkt is already up-to-date!\n",
      "[nltk_data] Downloading package stopwords to\n",
      "[nltk_data]     C:\\Users\\91938\\AppData\\Roaming\\nltk_data...\n",
      "[nltk_data]   Package stopwords is already up-to-date!\n"
     ]
    },
    {
     "name": "stdout",
     "output_type": "stream",
     "text": [
      "Original Sentence: speling errurs in somethink Whutever possibel  Misteaks hapen \n",
      "Corrected Sentence: spelling error in something whatever possible mistake happen\n"
     ]
    }
   ],
   "source": [
    "import nltk\n",
    "from nltk.corpus import words\n",
    "from nltk.metrics import edit_distance\n",
    "\n",
    "# Download the list of English words from NLTK\n",
    "nltk.download('words')\n",
    "nltk.download('punkt')\n",
    "nltk.download('stopwords')\n",
    "\n",
    "# Load the English word list\n",
    "english_words = set(words.words())\n",
    "\n",
    "# Function to find the nearest word based on edit distance and Jaccard similarity\n",
    "def find_nearest_word(word, word_list):\n",
    "    min_distance = float('inf')\n",
    "    nearest_word = None\n",
    "\n",
    "    for w in word_list:\n",
    "        distance = edit_distance(word, w)\n",
    "        jaccard_similarity = nltk.jaccard_distance(set(word), set(w))\n",
    "        combined_score = distance + jaccard_similarity\n",
    "\n",
    "        if combined_score < min_distance:\n",
    "            min_distance = combined_score\n",
    "            nearest_word = w\n",
    "\n",
    "    return nearest_word\n",
    "\n",
    "# Function to correct a given sentence\n",
    "def auto_correct_sentence(sentence):\n",
    "    corrected_sentence = []\n",
    "    for word in nltk.word_tokenize(sentence):\n",
    "        if word.lower() not in english_words:\n",
    "            corrected_word = find_nearest_word(word.lower(), english_words)\n",
    "            corrected_sentence.append(corrected_word)\n",
    "        else:\n",
    "            corrected_sentence.append(word)\n",
    "    return \" \".join(corrected_sentence)\n",
    "\n",
    "# Test the Auto Correct Tool\n",
    "input_sentence = \"speling errurs in somethink Whutever possibel  Misteaks hapen \"\n",
    "corrected_sentence = auto_correct_sentence(input_sentence)\n",
    "print(f\"Original Sentence: {input_sentence}\")\n",
    "print(f\"Corrected Sentence: {corrected_sentence}\")\n"
   ]
  },
  {
   "cell_type": "code",
   "execution_count": null,
   "id": "09199ed5",
   "metadata": {},
   "outputs": [],
   "source": []
  }
 ],
 "metadata": {
  "kernelspec": {
   "display_name": "Python 3 (ipykernel)",
   "language": "python",
   "name": "python3"
  },
  "language_info": {
   "codemirror_mode": {
    "name": "ipython",
    "version": 3
   },
   "file_extension": ".py",
   "mimetype": "text/x-python",
   "name": "python",
   "nbconvert_exporter": "python",
   "pygments_lexer": "ipython3",
   "version": "3.10.9"
  }
 },
 "nbformat": 4,
 "nbformat_minor": 5
}
